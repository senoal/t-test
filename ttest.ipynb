{
 "cells": [
  {
   "cell_type": "markdown",
   "id": "f9dc061c-b2e2-4eec-a19e-c03144fd3cde",
   "metadata": {},
   "source": [
    "# <b>Problem 1<b>\n",
    "Seorang petani ingin mengetahui hasil panen buah yang dimiliki, dimana berat setiap buah ideal minimal adalah 18kg untuk dijual. Dari buah yang telah dipetik apakah rata-rata berat buah memiliki syarat untuk dijual atau tidak?\n",
    "\n",
    "Keterangan : <br>\n",
    "t score = rata-rata nilai penyimpangan data yang dimiliki dari standar yang ditetapkan<br>\n",
    "p value = nilai error (0.05)<br>\n",
    "\n",
    "Hipotesis : <br>\n",
    "H0 = Rata-rata buah yang dipetik tidak memiliki berat ideal<br>\n",
    "H1 = Rata-rata buah yang dipetik memiliki berat ideal<br>\n",
    "\n",
    "Ketentuan : <br>\n",
    "Jika p value < 0.05, maka H0 ditolak, dan H1 diterima, dan sebaliknya.\n"
   ]
  },
  {
   "cell_type": "markdown",
   "id": "4cc0c83c-0a85-410a-b077-1f4eaf5af678",
   "metadata": {},
   "source": [
    "## 1. Data"
   ]
  },
  {
   "cell_type": "code",
   "execution_count": 2,
   "id": "8567e555-709a-4e27-98f9-d6ee9751d99c",
   "metadata": {},
   "outputs": [],
   "source": [
    "# one sample (one tail)\n",
    "from scipy.stats import ttest_1samp\n",
    "# contoh data 1\n",
    "x1 =  [21.5, 24.5, 18.5, 17.2, 14.5, 23.2, 22.1, 20.5, 19.4, 18.1, 24.1, 18.5]\n",
    "# contoh data 2\n",
    "x2 =  [11.5, 14.5, 18.5, 17.2, 14.5, 13.2, 22.1, 20.5, 19.4, 18.1, 24.1, 18.5]"
   ]
  },
  {
   "cell_type": "markdown",
   "id": "794bb6cb-b417-4b5f-82a8-08500c36d289",
   "metadata": {},
   "source": [
    "## 2. Nilai Error"
   ]
  },
  {
   "cell_type": "code",
   "execution_count": 3,
   "id": "fca57eb7-7c63-400b-bf1e-a4158f0d17b6",
   "metadata": {},
   "outputs": [],
   "source": [
    "# nilai error\n",
    "e = 0.05"
   ]
  },
  {
   "cell_type": "markdown",
   "id": "f3e7fdd6-6931-4093-9d24-5591d5b94d17",
   "metadata": {},
   "source": [
    "## 3. Ketentuan (Nilai Standar)"
   ]
  },
  {
   "cell_type": "code",
   "execution_count": 4,
   "id": "8da555d5-54dd-40c3-9272-c3d99f2642f0",
   "metadata": {},
   "outputs": [],
   "source": [
    "# nilai standar ketentuan\n",
    "popmean=18"
   ]
  },
  {
   "cell_type": "markdown",
   "id": "e1ea2d4a-9109-4108-b529-554b61edc0c9",
   "metadata": {},
   "source": [
    "## 4. Uji Data"
   ]
  },
  {
   "cell_type": "code",
   "execution_count": 5,
   "id": "545ae174-1417-40b6-bd2f-230b219143e3",
   "metadata": {},
   "outputs": [],
   "source": [
    "# uji data\n",
    "tscore, pvalue = ttest_1samp(x1, popmean)"
   ]
  },
  {
   "cell_type": "markdown",
   "id": "3e1961ee-4d93-46ca-bea7-a76818c35b2c",
   "metadata": {},
   "source": [
    "## 5. Result"
   ]
  },
  {
   "cell_type": "code",
   "execution_count": 6,
   "id": "57a59298-2738-4d51-b46e-7a5a74a1aa20",
   "metadata": {},
   "outputs": [
    {
     "name": "stdout",
     "output_type": "stream",
     "text": [
      "Buah dalam keranjang layak dijual dengan T-score = 2.4938708762507478 dan p-value = 0.02982953533840872\n"
     ]
    }
   ],
   "source": [
    "if pvalue < e:\n",
    "    print (\"Buah dalam keranjang layak dijual dengan T-score =\",tscore,\"dan p-value =\",pvalue)\n",
    "else :\n",
    "    print (\"Maaf, buah dalam keranjang tidak layak jual karena T-score\",tscore,\"dan p-value =\",pvalue)"
   ]
  },
  {
   "cell_type": "markdown",
   "id": "bc295094-9319-47dd-8baa-15dfeba8b271",
   "metadata": {},
   "source": [
    "# <b>Problem 2</b>\n",
    "\n",
    "Seorang pimpinan perusahaan ingin mengetahui kota yang akan diberikan supply lebih untuk meningkatkan target pemasaran berdasarkan 2 kota (kota A dan kota B) yang akan dibandingkan dengan masing-masing daerah memiliki nilai tersendiri.<br>\n",
    "Maka, apakah benar ada perbedaan pemasaran yang signifikan dari kedua kota tersebut?<br>\n",
    "Kota mana yang memiliki nilai tertinggi untuk mendapatkan suply lebih?"
   ]
  },
  {
   "cell_type": "markdown",
   "id": "bdde883d-121b-4904-86d1-541fdea85a2d",
   "metadata": {},
   "source": [
    "## 1. Data"
   ]
  },
  {
   "cell_type": "code",
   "execution_count": 140,
   "id": "f4091401-90ab-439c-9b03-aff1f1af7d5c",
   "metadata": {},
   "outputs": [],
   "source": [
    "# two sample\n",
    "\n",
    "from scipy.stats import ttest_ind\n",
    "import pandas as pd\n",
    "\n",
    "data = {\n",
    "    'Bulan_ke' : [1, 2, 3, 4, 5, 6, 7, 8, 9, 10],\n",
    "    'Kota_A' : [116, 121, 115, 124, 110, 120, 112, 130, 140, 125],\n",
    "#     'Kota_B' : [113, 122, 113, 121, 110, 123, 112, 133, 144, 123]\n",
    "    'Kota_B' : [105, 110, 104, 120, 109, 100, 110, 107, 131, 125]\n",
    "}\n",
    "\n",
    "df = pd.DataFrame(data)"
   ]
  },
  {
   "cell_type": "markdown",
   "id": "8e413121-fee1-4999-a1f3-633fd3c2908d",
   "metadata": {},
   "source": [
    "## 2. Nilai Error"
   ]
  },
  {
   "cell_type": "code",
   "execution_count": 142,
   "id": "ba450bb0-a7b1-41a0-9738-c663d3b18201",
   "metadata": {},
   "outputs": [],
   "source": [
    "e = 0.05"
   ]
  },
  {
   "cell_type": "markdown",
   "id": "883762d8-89c7-425e-a6d8-908b66492536",
   "metadata": {},
   "source": [
    "## 3. Uji Data"
   ]
  },
  {
   "cell_type": "code",
   "execution_count": 144,
   "id": "2779c9fd-7d15-46d7-a603-1b2794652c63",
   "metadata": {},
   "outputs": [
    {
     "name": "stdout",
     "output_type": "stream",
     "text": [
      "t Statistic:  2.1664557459306173\n",
      "P Value:  0.04394235535322457\n"
     ]
    }
   ],
   "source": [
    "tscore, pvalue = ttest_ind(df.Kota_A, df.Kota_B)\n",
    "print(\"t Statistic: \", tscore)  \n",
    "print(\"P Value: \", pvalue)"
   ]
  },
  {
   "cell_type": "markdown",
   "id": "13df8cb4-a9c2-4181-908d-1813569b331d",
   "metadata": {},
   "source": [
    "## 4. Nilai Setiap Kota"
   ]
  },
  {
   "cell_type": "code",
   "execution_count": 145,
   "id": "8f4d308c-d78d-44ef-8095-b04b4a092957",
   "metadata": {},
   "outputs": [
    {
     "data": {
      "text/plain": [
       "Kota_A    121.3\n",
       "Kota_B    112.1\n",
       "dtype: float64"
      ]
     },
     "execution_count": 145,
     "metadata": {},
     "output_type": "execute_result"
    }
   ],
   "source": [
    "df[['Kota_A','Kota_B']].mean(axis = 0)"
   ]
  },
  {
   "cell_type": "markdown",
   "id": "4e0e440b-9393-4ee5-9682-2418564860fc",
   "metadata": {},
   "source": [
    "## 5. Result"
   ]
  },
  {
   "cell_type": "code",
   "execution_count": 147,
   "id": "f4df857c-3ebf-451e-b975-a6526d3c5e52",
   "metadata": {},
   "outputs": [
    {
     "name": "stdout",
     "output_type": "stream",
     "text": [
      "Terdapat perbedaan yang signifikan dengan rekomendasi ('Kota A dengan nilai : ', 121.3)\n",
      "P value =  0.04394235535322457\n"
     ]
    }
   ],
   "source": [
    "a = df['Kota_A'].mean()\n",
    "b = df['Kota_B'].mean()\n",
    "\n",
    "def pilih():\n",
    "    if a > b :\n",
    "        return (\"Kota A dengan nilai : \",a)\n",
    "    else :\n",
    "        return (\"Kota B dengan nilai : \",b)\n",
    "    \n",
    "if pvalue < e :\n",
    "    print (\"Terdapat perbedaan yang signifikan dengan rekomendasi\",pilih())\n",
    "    print (\"P value = \",pvalue)\n",
    "else :\n",
    "    print (\"Tidak terdapat perbedaan yang signifikan dengan rekomendasi.\")\n",
    "    print (\"P value = \",pvalue)"
   ]
  },
  {
   "cell_type": "markdown",
   "id": "d43d1cc1-ddaf-475b-89cd-1d49c725cb44",
   "metadata": {},
   "source": [
    "reference : https://www.machinelearningplus.com/statistics/t-test-students-understanding-the-math-and-how-it-works/"
   ]
  },
  {
   "cell_type": "code",
   "execution_count": null,
   "id": "4223eb3f-f28a-4e9d-8977-e1f2de26e3df",
   "metadata": {},
   "outputs": [],
   "source": []
  }
 ],
 "metadata": {
  "kernelspec": {
   "display_name": "Python 3",
   "language": "python",
   "name": "python3"
  },
  "language_info": {
   "codemirror_mode": {
    "name": "ipython",
    "version": 3
   },
   "file_extension": ".py",
   "mimetype": "text/x-python",
   "name": "python",
   "nbconvert_exporter": "python",
   "pygments_lexer": "ipython3",
   "version": "3.7.6"
  }
 },
 "nbformat": 4,
 "nbformat_minor": 5
}
